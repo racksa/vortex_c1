{
 "cells": [
  {
   "cell_type": "markdown",
   "metadata": {},
   "source": [
    "\n",
    "a) Find the conformal mapping\n",
    "---\n",
    "The Joukowski transform $g(\\zeta)=\\frac{1}{2}(\\zeta+\\frac{1}{\\zeta})$ maps the fluid in a unit disc $|\\zeta|<1$ in the $\\zeta$-plane to the fluid outside a finite plate $-1<Re(z')<1, Im(z')=0$ in the $z'-plane$, as we had discussed in lectures. We write this as $z' = \\frac{1}{2}(\\zeta+\\frac{1}{\\zeta})$.\n",
    "\n",
    "We then take the inverse of $z'$ and write $z=\\frac{1}{z'}$. The finite plate $-1<z'<1$ now maps to an infinite wall along the real axis with a gap $-1<Re(z)<1, Im(z)=0$ in the $z$-plane. \n",
    "\n",
    "These two transformations together give the answer to the question:\n",
    "\n",
    "\\begin{align}\n",
    "g(\\zeta,\\zeta_a) &= \\frac{i}{2\\pi}log(|\\zeta_a|(\\zeta-(\\bar{\\zeta})^{-1})) \\tag{9} \\\\\n",
    "W_B&=0\n",
    "\\end{align}\n"
   ]
  }
 ],
 "metadata": {
  "kernelspec": {
   "display_name": "Python 3",
   "language": "python",
   "name": "python3"
  },
  "language_info": {
   "codemirror_mode": {
    "name": "ipython",
    "version": 3
   },
   "file_extension": ".py",
   "mimetype": "text/x-python",
   "name": "python",
   "nbconvert_exporter": "python",
   "pygments_lexer": "ipython3",
   "version": "3.5.2"
  }
 },
 "nbformat": 4,
 "nbformat_minor": 2
}
